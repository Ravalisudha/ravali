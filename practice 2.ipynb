{
 "cells": [
  {
   "cell_type": "markdown",
   "id": "ab7fdb30",
   "metadata": {},
   "source": [
    "Write a program to get the data type of a data"
   ]
  },
  {
   "cell_type": "code",
   "execution_count": 3,
   "id": "4f45a324",
   "metadata": {},
   "outputs": [
    {
     "data": {
      "text/plain": [
       "float"
      ]
     },
     "execution_count": 3,
     "metadata": {},
     "output_type": "execute_result"
    }
   ],
   "source": [
    "y=10.2\n",
    "type(y)"
   ]
  },
  {
   "cell_type": "markdown",
   "id": "b0b2e22d",
   "metadata": {},
   "source": [
    "Write a program to convert a integer data type to float data type"
   ]
  },
  {
   "cell_type": "code",
   "execution_count": 4,
   "id": "6ffb5aa9",
   "metadata": {},
   "outputs": [
    {
     "data": {
      "text/plain": [
       "10.0"
      ]
     },
     "execution_count": 4,
     "metadata": {},
     "output_type": "execute_result"
    }
   ],
   "source": [
    "x=10\n",
    "float(x)"
   ]
  },
  {
   "cell_type": "markdown",
   "id": "fb96192b",
   "metadata": {},
   "source": [
    "Write a program to convert a integer data type to float data type and vice versa"
   ]
  },
  {
   "cell_type": "code",
   "execution_count": 5,
   "id": "f0b66032",
   "metadata": {},
   "outputs": [
    {
     "data": {
      "text/plain": [
       "10.0"
      ]
     },
     "execution_count": 5,
     "metadata": {},
     "output_type": "execute_result"
    }
   ],
   "source": [
    "#converting int to float\n",
    "x=10\n",
    "float(x)"
   ]
  },
  {
   "cell_type": "code",
   "execution_count": 6,
   "id": "6a98cb8b",
   "metadata": {},
   "outputs": [
    {
     "data": {
      "text/plain": [
       "12"
      ]
     },
     "execution_count": 6,
     "metadata": {},
     "output_type": "execute_result"
    }
   ],
   "source": [
    "#converting float to int\n",
    "x=12.657\n",
    "int(x)"
   ]
  },
  {
   "cell_type": "markdown",
   "id": "68e8ee04",
   "metadata": {},
   "source": [
    " Write a programme to get the actual location of the data"
   ]
  },
  {
   "cell_type": "code",
   "execution_count": 8,
   "id": "1e1c9cba",
   "metadata": {},
   "outputs": [
    {
     "data": {
      "text/plain": [
       "2518190872752"
      ]
     },
     "execution_count": 8,
     "metadata": {},
     "output_type": "execute_result"
    }
   ],
   "source": [
    "x=123\n",
    "id(x)\n"
   ]
  },
  {
   "cell_type": "markdown",
   "id": "1f6fc7a4",
   "metadata": {},
   "source": [
    "Give an example of implict conversion and explict conversion"
   ]
  },
  {
   "cell_type": "code",
   "execution_count": 13,
   "id": "3245ef68",
   "metadata": {},
   "outputs": [
    {
     "data": {
      "text/plain": [
       "30"
      ]
     },
     "execution_count": 13,
     "metadata": {},
     "output_type": "execute_result"
    }
   ],
   "source": [
    "#explict\n",
    "x=20.6\n",
    "y=10\n",
    "int(x+y)\n"
   ]
  },
  {
   "cell_type": "code",
   "execution_count": 14,
   "id": "0223445b",
   "metadata": {},
   "outputs": [
    {
     "data": {
      "text/plain": [
       "32.5"
      ]
     },
     "execution_count": 14,
     "metadata": {},
     "output_type": "execute_result"
    }
   ],
   "source": [
    "#implict\n",
    "x=22.5\n",
    "y=10\n",
    "x+y"
   ]
  },
  {
   "cell_type": "markdown",
   "id": "ff0dad9d",
   "metadata": {},
   "source": [
    "Write a programme to prove that python is a case senstive language"
   ]
  },
  {
   "cell_type": "code",
   "execution_count": 17,
   "id": "78b48a2f",
   "metadata": {},
   "outputs": [
    {
     "ename": "NameError",
     "evalue": "name 'aBc' is not defined",
     "output_type": "error",
     "traceback": [
      "\u001b[1;31m---------------------------------------------------------------------------\u001b[0m",
      "\u001b[1;31mNameError\u001b[0m                                 Traceback (most recent call last)",
      "Input \u001b[1;32mIn [17]\u001b[0m, in \u001b[0;36m<cell line: 2>\u001b[1;34m()\u001b[0m\n\u001b[0;32m      1\u001b[0m abc\u001b[38;5;241m=\u001b[39m\u001b[38;5;241m1234\u001b[39m\n\u001b[1;32m----> 2\u001b[0m \u001b[38;5;28mprint\u001b[39m(\u001b[43maBc\u001b[49m)\n",
      "\u001b[1;31mNameError\u001b[0m: name 'aBc' is not defined"
     ]
    }
   ],
   "source": [
    "abc=1234\n",
    "print(aBc)\n"
   ]
  },
  {
   "cell_type": "markdown",
   "id": "6adf28e0",
   "metadata": {},
   "source": [
    "Write a programme to get a syntax error"
   ]
  },
  {
   "cell_type": "code",
   "execution_count": 19,
   "id": "c3b1b801",
   "metadata": {},
   "outputs": [
    {
     "ename": "SyntaxError",
     "evalue": "invalid syntax (2709478924.py, line 1)",
     "output_type": "error",
     "traceback": [
      "\u001b[1;36m  Input \u001b[1;32mIn [19]\u001b[1;36m\u001b[0m\n\u001b[1;33m    if abc=123\u001b[0m\n\u001b[1;37m          ^\u001b[0m\n\u001b[1;31mSyntaxError\u001b[0m\u001b[1;31m:\u001b[0m invalid syntax\n"
     ]
    }
   ],
   "source": [
    "if abc=123\n",
    "    print(abc)"
   ]
  },
  {
   "cell_type": "markdown",
   "id": "1e4ce817",
   "metadata": {},
   "source": [
    "Write a programme to get a type error"
   ]
  },
  {
   "cell_type": "code",
   "execution_count": 35,
   "id": "01973858",
   "metadata": {},
   "outputs": [
    {
     "ename": "TypeError",
     "evalue": "bad operand type for unary +: 'list'",
     "output_type": "error",
     "traceback": [
      "\u001b[1;31m---------------------------------------------------------------------------\u001b[0m",
      "\u001b[1;31mTypeError\u001b[0m                                 Traceback (most recent call last)",
      "Input \u001b[1;32mIn [35]\u001b[0m, in \u001b[0;36m<cell line: 3>\u001b[1;34m()\u001b[0m\n\u001b[0;32m      1\u001b[0m first\u001b[38;5;241m=\u001b[39m[\u001b[38;5;241m1\u001b[39m,\u001b[38;5;241m2\u001b[39m,\u001b[38;5;241m3\u001b[39m,\u001b[38;5;241m4\u001b[39m]\n\u001b[0;32m      2\u001b[0m second\u001b[38;5;241m=\u001b[39m[\u001b[38;5;241m3\u001b[39m,\u001b[38;5;241m4\u001b[39m]\n\u001b[1;32m----> 3\u001b[0m first\u001b[38;5;241m+\u001b[39m\u001b[38;5;241m=\u001b[39m\u001b[38;5;241;43m+\u001b[39;49m\u001b[43msecond\u001b[49m\n",
      "\u001b[1;31mTypeError\u001b[0m: bad operand type for unary +: 'list'"
     ]
    }
   ],
   "source": [
    "first=[1,2,3,4]\n",
    "second=[3,4]\n",
    "first+=+second\n",
    "\n"
   ]
  },
  {
   "cell_type": "markdown",
   "id": "9c131673",
   "metadata": {},
   "source": [
    "Give an example of mulitple statement in a single line"
   ]
  },
  {
   "cell_type": "code",
   "execution_count": 40,
   "id": "67e59b26",
   "metadata": {},
   "outputs": [
    {
     "data": {
      "text/plain": [
       "(5, -1, 48)"
      ]
     },
     "execution_count": 40,
     "metadata": {},
     "output_type": "execute_result"
    }
   ],
   "source": [
    "2+3,4-5,6*8\n"
   ]
  },
  {
   "cell_type": "markdown",
   "id": "955d5a31",
   "metadata": {},
   "source": [
    "Give an example of single line statement in multiple line"
   ]
  },
  {
   "cell_type": "code",
   "execution_count": 8,
   "id": "1600a780",
   "metadata": {},
   "outputs": [
    {
     "data": {
      "text/plain": [
       "1"
      ]
     },
     "execution_count": 8,
     "metadata": {},
     "output_type": "execute_result"
    }
   ],
   "source": [
    "1*\\\n",
    "2+\\\n",
    "3-\\\n",
    "4\n"
   ]
  },
  {
   "cell_type": "code",
   "execution_count": null,
   "id": "9ad985b3",
   "metadata": {},
   "outputs": [],
   "source": [
    "\n"
   ]
  }
 ],
 "metadata": {
  "kernelspec": {
   "display_name": "Python 3 (ipykernel)",
   "language": "python",
   "name": "python3"
  },
  "language_info": {
   "codemirror_mode": {
    "name": "ipython",
    "version": 3
   },
   "file_extension": ".py",
   "mimetype": "text/x-python",
   "name": "python",
   "nbconvert_exporter": "python",
   "pygments_lexer": "ipython3",
   "version": "3.9.12"
  }
 },
 "nbformat": 4,
 "nbformat_minor": 5
}
