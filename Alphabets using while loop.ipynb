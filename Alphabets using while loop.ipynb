{
 "cells": [
  {
   "cell_type": "code",
   "execution_count": 16,
   "id": "72bc7a52",
   "metadata": {},
   "outputs": [
    {
     "name": "stdout",
     "output_type": "stream",
     "text": [
      " * *\n",
      "*   *\n",
      "* * *\n",
      "*   *\n"
     ]
    }
   ],
   "source": [
    "x=0\n",
    "while x<4:\n",
    "    if x==0:\n",
    "        print(\" * *\")\n",
    "    elif x==1:\n",
    "        print(\"*   *\") \n",
    "    elif x==2:\n",
    "        print(\"* * *\")\n",
    "    elif x==3:\n",
    "        print(\"*   *\")\n",
    "    else:\n",
    "        print(\"* * *\")\n",
    "    x=x+1"
   ]
  },
  {
   "cell_type": "code",
   "execution_count": 175,
   "id": "44fbae5a",
   "metadata": {},
   "outputs": [
    {
     "name": "stdout",
     "output_type": "stream",
     "text": [
      "*  * *\n",
      "*      *\n",
      "******\n",
      "*      * \n",
      "* *  *\n"
     ]
    }
   ],
   "source": [
    "x=0\n",
    "while x<5:\n",
    "    if x==0:\n",
    "        print(\"*  * *\")\n",
    "    elif x==1:\n",
    "        print(\"*      *\") \n",
    "    elif x==2:\n",
    "        print(\"******\")\n",
    "    elif x==3:\n",
    "        print(\"*      * \")\n",
    "    elif x==4:\n",
    "        print(\"* *  *\")\n",
    "    else:\n",
    "        print(\"* **\")\n",
    "    x=x+1"
   ]
  },
  {
   "cell_type": "code",
   "execution_count": 8,
   "id": "30c4fc4e",
   "metadata": {},
   "outputs": [
    {
     "name": "stdout",
     "output_type": "stream",
     "text": [
      "* * *\n",
      "*\n",
      "*\n",
      "* * *\n"
     ]
    }
   ],
   "source": [
    "x=0\n",
    "while x<4:\n",
    "    if x==0:\n",
    "        print(\"* * *\")\n",
    "    elif x==1:\n",
    "        print(\"*\") \n",
    "    elif x==2:\n",
    "        print(\"*\")\n",
    "    elif x==3:\n",
    "        print(\"* * *\")\n",
    "    else:\n",
    "        print(\"* * *\")\n",
    "    x=x+1"
   ]
  },
  {
   "cell_type": "code",
   "execution_count": 18,
   "id": "7d9a93b9",
   "metadata": {},
   "outputs": [
    {
     "name": "stdout",
     "output_type": "stream",
     "text": [
      "* * *\n",
      " *   *\n",
      "* * *\n"
     ]
    }
   ],
   "source": [
    "x=0\n",
    "while x<3:\n",
    "    if x==0:\n",
    "        print(\"* * *\")\n",
    "    elif x==1:\n",
    "        print(\" *   *\") \n",
    "    elif x==2:\n",
    "        print(\"* * *\")\n",
    "    else:\n",
    "        print(\"* * *\")\n",
    "    x=x+1"
   ]
  },
  {
   "cell_type": "code",
   "execution_count": 14,
   "id": "b571040f",
   "metadata": {},
   "outputs": [
    {
     "name": "stdout",
     "output_type": "stream",
     "text": [
      "* * *\n",
      "* *\n",
      "* * *\n"
     ]
    }
   ],
   "source": [
    "x=0\n",
    "while x<3:\n",
    "    if x==0:\n",
    "        print(\"* * *\")\n",
    "    elif x==1:\n",
    "        print(\"* *\") \n",
    "    elif x==2:\n",
    "        print(\"* * *\")\n",
    "    else:\n",
    "        print(\"* * *\")\n",
    "    x=x+1"
   ]
  },
  {
   "cell_type": "code",
   "execution_count": 168,
   "id": "d7d04e76",
   "metadata": {},
   "outputs": [
    {
     "name": "stdout",
     "output_type": "stream",
     "text": [
      "* * * *\n",
      "*\n",
      "* * *\n",
      "*\n",
      "*\n"
     ]
    }
   ],
   "source": [
    "x=0\n",
    "while x<5:\n",
    "    if x==0:\n",
    "        print(\"* * * *\")\n",
    "    elif x==1:\n",
    "        print(\"*\")\n",
    "    elif x==2:\n",
    "        print(\"* * *\")\n",
    "    elif x==3:\n",
    "        print(\"*\")\n",
    "    elif x==4:\n",
    "        print(\"*\")\n",
    "    x=x+1"
   ]
  },
  {
   "cell_type": "code",
   "execution_count": 163,
   "id": "c009faa0",
   "metadata": {},
   "outputs": [
    {
     "name": "stdout",
     "output_type": "stream",
     "text": [
      "* * *\n",
      "*\n",
      "*  * *\n",
      "*  * *\n",
      "     *\n",
      "     *\n"
     ]
    }
   ],
   "source": [
    "x=0\n",
    "while x<6:\n",
    "    if x==0:\n",
    "        print(\"* * *\")\n",
    "    elif x==1:\n",
    "        print(\"*\")\n",
    "    elif x==2:\n",
    "        print(\"*  * *\")\n",
    "    elif x==3:\n",
    "        print(\"*  * *\")\n",
    "    else:\n",
    "        print(\"     *\")\n",
    "    x=x+1"
   ]
  },
  {
   "cell_type": "code",
   "execution_count": 20,
   "id": "2f3c4876",
   "metadata": {},
   "outputs": [
    {
     "name": "stdout",
     "output_type": "stream",
     "text": [
      "*     *\n",
      "*     *\n",
      "* * * *\n",
      "*     *\n",
      "*     *\n"
     ]
    }
   ],
   "source": [
    "x=0\n",
    "while x<6:\n",
    "    if x==0:\n",
    "        print(\"*     *\")\n",
    "    elif x==1:\n",
    "        print(\"*     *\")\n",
    "    elif x==2:\n",
    "        print(\"* * * *\")\n",
    "    elif x==3:\n",
    "        print(\"*     *\")\n",
    "    elif x==4:\n",
    "        print(\"*     *\")\n",
    "\n",
    "    x=x+1"
   ]
  },
  {
   "cell_type": "code",
   "execution_count": 102,
   "id": "34ee6d1f",
   "metadata": {},
   "outputs": [
    {
     "name": "stdout",
     "output_type": "stream",
     "text": [
      " * * *\n",
      "   *   \n",
      " * * *\n"
     ]
    }
   ],
   "source": [
    "x=0\n",
    "while x<6:\n",
    "    if x==0:\n",
    "        print(\" * * *\")\n",
    "    elif x==1:\n",
    "        print(\"   *   \")\n",
    "    elif x==2:\n",
    "        print(\" * * *\")\n",
    "\n",
    "    x=x+1"
   ]
  },
  {
   "cell_type": "code",
   "execution_count": 113,
   "id": "70d16abd",
   "metadata": {},
   "outputs": [
    {
     "name": "stdout",
     "output_type": "stream",
     "text": [
      "* * *\n",
      "  *  \n",
      "  *  \n",
      "* *\n"
     ]
    }
   ],
   "source": [
    "x=0\n",
    "while x<6:\n",
    "    if x==0:\n",
    "        print(\"* * *\")\n",
    "    elif x==1:\n",
    "        print(\"  *  \")\n",
    "    elif x==2:\n",
    "        print(\"  *  \")\n",
    "    elif x==3:\n",
    "        print(\"* *\")\n",
    "    x=x+1"
   ]
  },
  {
   "cell_type": "code",
   "execution_count": 144,
   "id": "1414616b",
   "metadata": {},
   "outputs": [
    {
     "name": "stdout",
     "output_type": "stream",
     "text": [
      "*  *\n",
      "* * \n",
      "**\n",
      "* *\n",
      "*  *\n"
     ]
    }
   ],
   "source": [
    "x=0\n",
    "while x<5:\n",
    "    if x==0:\n",
    "        print(\"*  *\")\n",
    "    elif x==1:\n",
    "        print(\"* * \")\n",
    "    elif x==2:\n",
    "        print(\"**\")\n",
    "    elif x==3:\n",
    "        print(\"* *\")\n",
    "    elif x==4:\n",
    "        print(\"*  *\")\n",
    "    x=x+1"
   ]
  },
  {
   "cell_type": "code",
   "execution_count": 145,
   "id": "28df3bac",
   "metadata": {},
   "outputs": [
    {
     "name": "stdout",
     "output_type": "stream",
     "text": [
      "*\n",
      "*\n",
      "*\n",
      "*\n",
      "*  *  *\n"
     ]
    }
   ],
   "source": [
    "x=0\n",
    "while x<5:\n",
    "    if x==0:\n",
    "        print(\"*\")\n",
    "    elif x==1:\n",
    "        print(\"*\")\n",
    "    elif x==2:\n",
    "        print(\"*\")\n",
    "    elif x==3:\n",
    "        print(\"*\")\n",
    "    elif x==4:\n",
    "        print(\"*  *  *\")\n",
    "    x=x+1"
   ]
  },
  {
   "cell_type": "code",
   "execution_count": 156,
   "id": "f39f234d",
   "metadata": {},
   "outputs": [
    {
     "name": "stdout",
     "output_type": "stream",
     "text": [
      "*     *\n",
      "* * * *\n",
      "*  *  *\n",
      "*     *\n",
      "*     *\n"
     ]
    }
   ],
   "source": [
    "x=0\n",
    "while x<5:\n",
    "    if x==0:\n",
    "        print(\"*     *\")\n",
    "    elif x==1:\n",
    "        print(\"* * * *\")\n",
    "    elif x==2:\n",
    "        print(\"*  *  *\")\n",
    "    elif x==3:\n",
    "        print(\"*     *\")\n",
    "    elif x==4:\n",
    "        print(\"*     *\")\n",
    "    \n",
    "    x=x+1"
   ]
  },
  {
   "cell_type": "code",
   "execution_count": 15,
   "id": "09e52959",
   "metadata": {},
   "outputs": [
    {
     "name": "stdout",
     "output_type": "stream",
     "text": [
      "*     *\n",
      "* *   *\n",
      "*   * *\n",
      "*     *\n"
     ]
    }
   ],
   "source": [
    "x=0\n",
    "while x<4:\n",
    "    if x==0:\n",
    "        print(\"*     *\")\n",
    "    elif x==1:\n",
    "        print(\"* *   *\")\n",
    "    elif x==2:\n",
    "        print(\"*   * *\")\n",
    "    elif x==3:\n",
    "        print(\"*     *\")\n",
    "    x=x+1"
   ]
  },
  {
   "cell_type": "code",
   "execution_count": 7,
   "id": "aa6d7784",
   "metadata": {},
   "outputs": [
    {
     "name": "stdout",
     "output_type": "stream",
     "text": [
      "* * * \n",
      "*   *\n",
      "*   *\n",
      "* * *\n"
     ]
    }
   ],
   "source": [
    "x=0\n",
    "while x<4:\n",
    "    if x==0:\n",
    "        print(\"* * * \")\n",
    "    elif x==1:\n",
    "        print(\"*   *\")\n",
    "    elif x==2:\n",
    "        print(\"*   *\")\n",
    "    elif x==3:\n",
    "        print(\"* * *\")\n",
    "    x=x+1"
   ]
  },
  {
   "cell_type": "code",
   "execution_count": 23,
   "id": "f1fbcb1a",
   "metadata": {},
   "outputs": [
    {
     "name": "stdout",
     "output_type": "stream",
     "text": [
      "* * * \n",
      "*    *\n",
      "* * *\n",
      "*\n",
      "*\n"
     ]
    }
   ],
   "source": [
    "x=0\n",
    "while x<5:\n",
    "    if x==0:\n",
    "        print(\"* * * \")\n",
    "    elif x==1:\n",
    "        print(\"*    *\")\n",
    "    elif x==2:\n",
    "        print(\"* * *\")\n",
    "    elif x==3:\n",
    "        print(\"*\")\n",
    "    elif x==4:\n",
    "        print(\"*\")\n",
    "    x=x+1"
   ]
  },
  {
   "cell_type": "code",
   "execution_count": 44,
   "id": "97605805",
   "metadata": {},
   "outputs": [
    {
     "name": "stdout",
     "output_type": "stream",
     "text": [
      "*  *  * *\n",
      "*       *\n",
      "*     * *\n",
      "*  *  * *\n",
      "         *\n"
     ]
    }
   ],
   "source": [
    "x=0\n",
    "while x<5:\n",
    "    if x==0:\n",
    "        print(\"*  *  * *\")\n",
    "    elif x==1:\n",
    "        print(\"*       *\")\n",
    "    elif x==2:\n",
    "        print(\"*     * *\")\n",
    "    elif x==3:\n",
    "        print(\"*  *  * *\")\n",
    "    elif x==4:\n",
    "        print(\"         *\")\n",
    "\n",
    "    x=x+1"
   ]
  },
  {
   "cell_type": "code",
   "execution_count": 53,
   "id": "41afa154",
   "metadata": {},
   "outputs": [
    {
     "name": "stdout",
     "output_type": "stream",
     "text": [
      "* * * \n",
      "*   *\n",
      "* * \n",
      "*   *\n",
      "*     *\n"
     ]
    }
   ],
   "source": [
    "x=0\n",
    "while x<5:\n",
    "    if x==0:\n",
    "        print(\"* * * \")\n",
    "    elif x==1:\n",
    "        print(\"*   *\")\n",
    "    elif x==2:\n",
    "        print(\"* * \")\n",
    "    elif x==3:\n",
    "        print(\"*   *\")\n",
    "    elif x==4:\n",
    "        print(\"*     *\")\n",
    "    x=x+1"
   ]
  },
  {
   "cell_type": "code",
   "execution_count": 95,
   "id": "66838712",
   "metadata": {},
   "outputs": [
    {
     "name": "stdout",
     "output_type": "stream",
     "text": [
      "  *  * *\n",
      " *\n",
      "  *  * *\n",
      "         *   \n",
      "  *  *  *\n"
     ]
    }
   ],
   "source": [
    "x=0\n",
    "while x<5:\n",
    "    if x==0:\n",
    "        print(\"  *  * *\")\n",
    "    elif x==1:\n",
    "        print(\" *\")\n",
    "    elif x==2:\n",
    "        print(\"  *  * *\")\n",
    "    elif x==3:\n",
    "        print(\"         *   \")\n",
    "    elif x==4:\n",
    "        print(\"  *  *  *\")\n",
    "    x=x+1"
   ]
  },
  {
   "cell_type": "code",
   "execution_count": 96,
   "id": "266f5336",
   "metadata": {},
   "outputs": [
    {
     "name": "stdout",
     "output_type": "stream",
     "text": [
      "*  *  *\n",
      "   *  \n",
      "   *  \n",
      "   *   \n"
     ]
    }
   ],
   "source": [
    "x=0\n",
    "while x<5:\n",
    "    if x==0:\n",
    "        print(\"*  *  *\")\n",
    "    elif x==1:\n",
    "        print(\"   *  \")\n",
    "    elif x==2:\n",
    "        print(\"   *  \")\n",
    "    elif x==3:\n",
    "        print(\"   *   \")\n",
    "    x=x+1"
   ]
  },
  {
   "cell_type": "code",
   "execution_count": 107,
   "id": "6be1c967",
   "metadata": {},
   "outputs": [
    {
     "name": "stdout",
     "output_type": "stream",
     "text": [
      "*      *\n",
      "*      *\n",
      "*      *\n",
      "  *  *   \n"
     ]
    }
   ],
   "source": [
    "x=0\n",
    "while x<5:\n",
    "    if x==0:\n",
    "        print(\"*      *\")\n",
    "    elif x==1:\n",
    "        print(\"*      *\")\n",
    "    elif x==2:\n",
    "        print(\"*      *\")\n",
    "    elif x==3:\n",
    "        print(\"  *  *   \")\n",
    "    x=x+1"
   ]
  },
  {
   "cell_type": "code",
   "execution_count": 116,
   "id": "78dff74e",
   "metadata": {},
   "outputs": [
    {
     "name": "stdout",
     "output_type": "stream",
     "text": [
      "*       *\n",
      " *     *\n",
      "  *   *\n",
      "    *  \n"
     ]
    }
   ],
   "source": [
    "x=0\n",
    "while x<5:\n",
    "    if x==0:\n",
    "        print(\"*       *\")\n",
    "    elif x==1:\n",
    "        print(\" *     *\")\n",
    "    elif x==2:\n",
    "        print(\"  *   *\")\n",
    "    elif x==3:\n",
    "        print(\"    *  \")\n",
    "    x=x+1"
   ]
  },
  {
   "cell_type": "code",
   "execution_count": 118,
   "id": "c8466fb3",
   "metadata": {},
   "outputs": [
    {
     "name": "stdout",
     "output_type": "stream",
     "text": [
      "*       *\n",
      "*   *   *\n",
      "*  * *  *\n",
      "*       *\n"
     ]
    }
   ],
   "source": [
    "x=0\n",
    "while x<5:\n",
    "    if x==0:\n",
    "        print(\"*       *\")\n",
    "    elif x==1:\n",
    "        print(\"*   *   *\")\n",
    "    elif x==2:\n",
    "        print(\"*  * *  *\")\n",
    "    elif x==3:\n",
    "        print(\"*       *\")\n",
    "    x=x+1"
   ]
  },
  {
   "cell_type": "code",
   "execution_count": 131,
   "id": "401098b0",
   "metadata": {},
   "outputs": [
    {
     "name": "stdout",
     "output_type": "stream",
     "text": [
      " *    *\n",
      "  *  * \n",
      "   *\n",
      "  *  *\n",
      " *    *\n"
     ]
    }
   ],
   "source": [
    "x=0\n",
    "while x<5:\n",
    "    if x==0:\n",
    "        print(\" *    *\")\n",
    "    elif x==1:\n",
    "        print(\"  *  * \")\n",
    "    elif x==2:\n",
    "        print(\"   *\")\n",
    "    elif x==3:\n",
    "        print(\"  *  *\")\n",
    "    elif x==4:\n",
    "        print(\" *    *\")\n",
    "    x=x+1"
   ]
  },
  {
   "cell_type": "code",
   "execution_count": 136,
   "id": "06c9e486",
   "metadata": {},
   "outputs": [
    {
     "name": "stdout",
     "output_type": "stream",
     "text": [
      "*    *\n",
      " *  * \n",
      "   *\n",
      "   *\n",
      "   *\n"
     ]
    }
   ],
   "source": [
    "x=0\n",
    "while x<5:\n",
    "    if x==0:\n",
    "        print(\"*    *\")\n",
    "    elif x==1:\n",
    "        print(\" *  * \")\n",
    "    elif x==2:\n",
    "        print(\"   *\")\n",
    "    elif x==3:\n",
    "        print(\"   *\")\n",
    "    elif x==4:\n",
    "        print(\"   *\")\n",
    "    x=x+1"
   ]
  },
  {
   "cell_type": "code",
   "execution_count": 141,
   "id": "dd27b4a7",
   "metadata": {},
   "outputs": [
    {
     "name": "stdout",
     "output_type": "stream",
     "text": [
      "* * *\n",
      "   * \n",
      " *\n",
      "* * *\n"
     ]
    }
   ],
   "source": [
    "x=0\n",
    "while x<5:\n",
    "    if x==0:\n",
    "        print(\"* * *\")\n",
    "    elif x==1:\n",
    "        print(\"   * \")\n",
    "    elif x==2:\n",
    "        print(\" *\")\n",
    "    elif x==3:\n",
    "        print(\"* * *\")\n",
    "    x=x+1"
   ]
  },
  {
   "cell_type": "code",
   "execution_count": null,
   "id": "e3ac7aae",
   "metadata": {},
   "outputs": [],
   "source": []
  }
 ],
 "metadata": {
  "kernelspec": {
   "display_name": "Python 3 (ipykernel)",
   "language": "python",
   "name": "python3"
  },
  "language_info": {
   "codemirror_mode": {
    "name": "ipython",
    "version": 3
   },
   "file_extension": ".py",
   "mimetype": "text/x-python",
   "name": "python",
   "nbconvert_exporter": "python",
   "pygments_lexer": "ipython3",
   "version": "3.9.12"
  }
 },
 "nbformat": 4,
 "nbformat_minor": 5
}
