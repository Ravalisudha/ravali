{
 "cells": [
  {
   "cell_type": "markdown",
   "id": "4ae2d75c",
   "metadata": {},
   "source": [
    "Write a program to accept percentage from the user and display the grade according to the following criteria:"
   ]
  },
  {
   "cell_type": "code",
   "execution_count": 2,
   "id": "a70ebee4",
   "metadata": {},
   "outputs": [
    {
     "name": "stdout",
     "output_type": "stream",
     "text": [
      "enter marks75\n",
      "Grade c\n"
     ]
    }
   ],
   "source": [
    "x=int(input(\"enter marks\"))\n",
    "if x>90:\n",
    "    print(\"Grade A\")\n",
    "elif x>80 and x<=90:\n",
    "    print(\"Grade B\")\n",
    "elif x>=60 and x<=80:\n",
    "    print(\"Grade c\")\n",
    "else:\n",
    "    print(\"Grade D\")"
   ]
  },
  {
   "cell_type": "markdown",
   "id": "67c8d3b3",
   "metadata": {},
   "source": [
    "Write a program to accept the cost price of a bike and display the road tax to be paid according to the following criteria :\n",
    "   Cost price (in Rs)                                       Tax\n",
    "        > 100000                                                  15 %\n",
    "        > 50000 and <= 100000                                     10%\n",
    "        <= 50000             \n",
    "                                                                 5%\n",
    " "
   ]
  },
  {
   "cell_type": "code",
   "execution_count": 4,
   "id": "a836bea0",
   "metadata": {},
   "outputs": [
    {
     "name": "stdout",
     "output_type": "stream",
     "text": [
      "enter bike price1500000\n",
      "tax is: 225000.0\n"
     ]
    }
   ],
   "source": [
    "bike_price=int(input(\"enter bike price\"))\n",
    "if bike_price>100000:\n",
    "    tax=bike_price*(15/100)\n",
    "    print(\"tax is:\",tax)\n",
    "elif bike_price>50000 and bike_price<=100000:\n",
    "    tax=bike_price*(10/100)\n",
    "    print(\"tax is:\",tax)\n",
    "else:\n",
    "    tax=bike_price*(5/100)\n",
    "    print(\"tax is:\",tax)\n",
    "\n",
    "    "
   ]
  },
  {
   "cell_type": "markdown",
   "id": "f66c22b1",
   "metadata": {},
   "source": [
    "Write a program to check whether a person is eligible for voting or not. (accept age from user)"
   ]
  },
  {
   "cell_type": "code",
   "execution_count": 3,
   "id": "92616863",
   "metadata": {},
   "outputs": [
    {
     "name": "stdout",
     "output_type": "stream",
     "text": [
      "enter your age25\n",
      "you are eligile\n"
     ]
    }
   ],
   "source": [
    "x=int(input(\"enter your age\"))\n",
    "if x>=18:\n",
    "    print(\"you are eligile\")\n",
    "else:\n",
    "    print(\"not eligible\")"
   ]
  },
  {
   "cell_type": "markdown",
   "id": "e2d8d36b",
   "metadata": {},
   "source": [
    "Write a program to check whether a number entered by user is even or odd.\n"
   ]
  },
  {
   "cell_type": "code",
   "execution_count": 4,
   "id": "5068aa58",
   "metadata": {},
   "outputs": [
    {
     "name": "stdout",
     "output_type": "stream",
     "text": [
      "enter your age25\n",
      "the number is odd\n"
     ]
    }
   ],
   "source": [
    "x=int(input(\"enter your age\"))\n",
    "\n",
    "if x%2==0:\n",
    "    print(\"the number is even\")\n",
    "else:\n",
    "    print(\"the number is odd\")\n",
    "    "
   ]
  },
  {
   "cell_type": "markdown",
   "id": "8c81b281",
   "metadata": {},
   "source": [
    "Write a program to check whether a number is divisible by 7 or not"
   ]
  },
  {
   "cell_type": "code",
   "execution_count": 7,
   "id": "38545d21",
   "metadata": {},
   "outputs": [
    {
     "name": "stdout",
     "output_type": "stream",
     "text": [
      "enter number21\n",
      "digit is divisible by 7\n"
     ]
    }
   ],
   "source": [
    "x=input(\"enter number\")\n",
    "if x.isdigit() and int(x)%7==0:\n",
    "    \n",
    "        print(\"digit is divisible by 7\")\n",
    "else:\n",
    "    print(\"not divisible\")"
   ]
  },
  {
   "cell_type": "markdown",
   "id": "fbbc6664",
   "metadata": {},
   "source": [
    "Write a program to display \"Hello\" if a number entered by user is a multiple of five , \n",
    "otherwise print \"Bye\"."
   ]
  },
  {
   "cell_type": "code",
   "execution_count": 8,
   "id": "6e8248cb",
   "metadata": {},
   "outputs": [
    {
     "name": "stdout",
     "output_type": "stream",
     "text": [
      "enter number25\n",
      "Hello\n"
     ]
    }
   ],
   "source": [
    "x=int(input(\"enter number\"))\n",
    "\n",
    "if x%5==0:\n",
    "    print(\"Hello\")\n",
    "else:\n",
    "    print(\"bye\")"
   ]
  },
  {
   "cell_type": "markdown",
   "id": "760651e7",
   "metadata": {},
   "source": [
    "Write a program to calculate the electricity bill (accept number of unit from user) according to the following criteria :\n",
    "             Unit                                                     Price  \n",
    "First 100 units                                               no charge\n",
    "Next 100 units                                              Rs 5 per unit\n",
    "After 200 units                                             Rs 10 per unit\n",
    "(For example if input unit is 350 than total bill amount is Rs2000)\n"
   ]
  },
  {
   "cell_type": "code",
   "execution_count": 10,
   "id": "d6fc1373",
   "metadata": {},
   "outputs": [
    {
     "name": "stdout",
     "output_type": "stream",
     "text": [
      " Enter units350\n",
      "2000\n"
     ]
    }
   ],
   "source": [
    "unit=int(input(\" Enter units\"))\n",
    "x=[]\n",
    "if unit:\n",
    "    unit=unit-100\n",
    "if unit:\n",
    "    unit=unit-100\n",
    "    x.append(100*5)\n",
    "if unit:\n",
    "    x.append(unit*10)\n",
    "print(sum(x))"
   ]
  },
  {
   "cell_type": "markdown",
   "id": "f42cc318",
   "metadata": {},
   "source": [
    "Write a program to display the last digit of a number.\n",
    "(hint : any number % 10 will return the last digit)\n",
    "\n"
   ]
  },
  {
   "cell_type": "code",
   "execution_count": 6,
   "id": "521e887a",
   "metadata": {},
   "outputs": [
    {
     "name": "stdout",
     "output_type": "stream",
     "text": [
      "enter a number556\n",
      "6\n"
     ]
    }
   ],
   "source": [
    "x=int(input(\"enter a number\"))\n",
    "print(x%10)"
   ]
  },
  {
   "cell_type": "markdown",
   "id": "0863d53b",
   "metadata": {},
   "source": [
    "Write a program to check whether the last digit of a number( entered by user ) is \n",
    "divisible by 3 or not."
   ]
  },
  {
   "cell_type": "code",
   "execution_count": 10,
   "id": "81086a6e",
   "metadata": {},
   "outputs": [
    {
     "name": "stdout",
     "output_type": "stream",
     "text": [
      "enter number26\n",
      "last digit is divisible by 3\n"
     ]
    }
   ],
   "source": [
    "x=input(\"enter number\")\n",
    "if int(x[-1])%3==0:\n",
    "    \n",
    "        print(\"last digit is divisible by 3\")\n",
    "else:\n",
    "    print(\"not divisible\")"
   ]
  }
 ],
 "metadata": {
  "kernelspec": {
   "display_name": "Python 3 (ipykernel)",
   "language": "python",
   "name": "python3"
  },
  "language_info": {
   "codemirror_mode": {
    "name": "ipython",
    "version": 3
   },
   "file_extension": ".py",
   "mimetype": "text/x-python",
   "name": "python",
   "nbconvert_exporter": "python",
   "pygments_lexer": "ipython3",
   "version": "3.9.12"
  }
 },
 "nbformat": 4,
 "nbformat_minor": 5
}
