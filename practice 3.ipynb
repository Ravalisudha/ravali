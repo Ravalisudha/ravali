{
 "cells": [
  {
   "cell_type": "code",
   "execution_count": 9,
   "id": "ca569af7",
   "metadata": {},
   "outputs": [],
   "source": [
    "x=\"abcde\"\n",
    "y=0\n",
    "z=\"\"\n",
    "while y<len(x):\n",
    "   if y%2==0:\n",
    "    z=z+(x[y].upper())\n",
    "   else:\n",
    "    z=z+(x[y].lower())\n",
    "   y=y+1"
   ]
  },
  {
   "cell_type": "code",
   "execution_count": 4,
   "id": "5af56524",
   "metadata": {},
   "outputs": [
    {
     "data": {
      "text/plain": [
       "'AbCdE'"
      ]
     },
     "execution_count": 4,
     "metadata": {},
     "output_type": "execute_result"
    }
   ],
   "source": [
    "z"
   ]
  },
  {
   "cell_type": "code",
   "execution_count": 14,
   "id": "d1f0bf7e",
   "metadata": {},
   "outputs": [
    {
     "name": "stdout",
     "output_type": "stream",
     "text": [
      "<class 'int'>\n",
      "<class 'float'>\n",
      "<class 'complex'>\n",
      "<class 'str'>\n"
     ]
    }
   ],
   "source": [
    "x=0\n",
    "y=[7,2.2045,1+3j,\"xyz\"]\n",
    "while x<len(y):\n",
    "    print(type(y[x]))\n",
    "    x=x+1"
   ]
  },
  {
   "cell_type": "code",
   "execution_count": 2,
   "id": "fd45e506",
   "metadata": {},
   "outputs": [],
   "source": [
    "a=\"\"\n",
    "b=\"\"\n",
    "x=\"absd1243\"\n",
    "y=0\n",
    "while y<len(x):\n",
    "    if x[y].isalpha():\n",
    "        a=a+x[y]\n",
    "    else:\n",
    "       b=b+x[y]\n",
    "    y=y+1\n",
    "    \n"
   ]
  },
  {
   "cell_type": "code",
   "execution_count": 14,
   "id": "2943ed1f",
   "metadata": {},
   "outputs": [
    {
     "data": {
      "text/plain": [
       "['a', 'b', 's', 'd']"
      ]
     },
     "execution_count": 14,
     "metadata": {},
     "output_type": "execute_result"
    }
   ],
   "source": [
    "list(a)"
   ]
  },
  {
   "cell_type": "code",
   "execution_count": 15,
   "id": "812b3a0f",
   "metadata": {},
   "outputs": [
    {
     "data": {
      "text/plain": [
       "['1', '2', '4', '3']"
      ]
     },
     "execution_count": 15,
     "metadata": {},
     "output_type": "execute_result"
    }
   ],
   "source": [
    "list(b)"
   ]
  },
  {
   "cell_type": "code",
   "execution_count": 1,
   "id": "042c4cd0",
   "metadata": {},
   "outputs": [
    {
     "data": {
      "text/plain": [
       "{2, 3, 4, 5}"
      ]
     },
     "execution_count": 1,
     "metadata": {},
     "output_type": "execute_result"
    }
   ],
   "source": [
    "l1=[1,2,3,\"a\"]\n",
    "l2=[4,5,1,\"a\"]\n",
    "a=set(l1)\n",
    "b=set(l2)\n",
    "a^b"
   ]
  },
  {
   "cell_type": "code",
   "execution_count": 4,
   "id": "d7844903",
   "metadata": {},
   "outputs": [
    {
     "name": "stdout",
     "output_type": "stream",
     "text": [
      " abde\n",
      "10\n"
     ]
    }
   ],
   "source": [
    "a=\" \"\n",
    "b=0\n",
    "x=[\"a\",\"b\",1,2,3,\"d\",\"e\",4]\n",
    "y=0\n",
    "while y<len(x):\n",
    "    if str(x[y]).isalpha():\n",
    "        a=a+x[y]\n",
    "    elif str(x[y]).isdigit():\n",
    "        b=b+x[y]\n",
    "    y=y+1\n",
    "print(a)\n",
    "print(int(b))\n",
    "\n"
   ]
  },
  {
   "cell_type": "code",
   "execution_count": null,
   "id": "6635ea13",
   "metadata": {},
   "outputs": [],
   "source": []
  }
 ],
 "metadata": {
  "kernelspec": {
   "display_name": "Python 3 (ipykernel)",
   "language": "python",
   "name": "python3"
  },
  "language_info": {
   "codemirror_mode": {
    "name": "ipython",
    "version": 3
   },
   "file_extension": ".py",
   "mimetype": "text/x-python",
   "name": "python",
   "nbconvert_exporter": "python",
   "pygments_lexer": "ipython3",
   "version": "3.9.12"
  }
 },
 "nbformat": 4,
 "nbformat_minor": 5
}
